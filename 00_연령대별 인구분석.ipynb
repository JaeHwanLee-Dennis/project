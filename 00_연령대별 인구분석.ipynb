{
 "cells": [
  {
   "cell_type": "markdown",
   "metadata": {},
   "source": [
    "# 연령대별 지역(동) 인구데이터 분석\n",
    "---\n",
    "데이터 출처 : https://jumin.mois.go.kr/index.jsp#"
   ]
  },
  {
   "cell_type": "code",
   "execution_count": 1,
   "metadata": {},
   "outputs": [
    {
     "name": "stdout",
     "output_type": "stream",
     "text": [
      "알고싶은 동의 이름을 입력해주세요(ex:권선) >압구정\n"
     ]
    },
    {
     "data": {
      "image/png": "[encoded data removed]",
      "text/plain": [
       "<Figure size 432x288 with 1 Axes>"
      ]
     },
     "metadata": {},
     "output_type": "display_data"
    }
   ],
   "source": [
    "import csv\n",
    "import matplotlib.pyplot as plt\n",
    "\n",
    "name = input('알고싶은 동의 이름을 입력해주세요(ex:권선) >')\n",
    "result = []\n",
    "\n",
    "with open('./data/2020_age.csv') as f :\n",
    "    data = csv.reader(f)\n",
    "    next(data)\n",
    "    \n",
    "    for row in data :\n",
    "        if name in row[0] :\n",
    "            for i in row[3:] :\n",
    "                result.append(int(i))\n",
    "\n",
    "plt.style.use('ggplot')\n",
    "plt.bar(x=range(101),height= result)\n",
    "plt.show()"
   ]
  },
  {
   "cell_type": "markdown",
   "metadata": {},
   "source": [
    "#  연령대별 지역(동) 남여 인구데이터 분석"
   ]
  },
  {
   "cell_type": "code",
   "execution_count": 10,
   "metadata": {
    "scrolled": true
   },
   "outputs": [
    {
     "name": "stdout",
     "output_type": "stream",
     "text": [
      "알고싶은 동의 이름을 입력해주세요(ex:권선) >구미동\n"
     ]
    },
    {
     "data": {
      "image/png": "[encoded data removed]",
      "text/plain": [
       "<Figure size 720x360 with 1 Axes>"
      ]
     },
     "metadata": {},
     "output_type": "display_data"
    }
   ],
   "source": [
    "import csv\n",
    "import matplotlib.pyplot\n",
    "\n",
    "name = input('알고싶은 동의 이름을 입력해주세요(ex:권선) >')\n",
    "male = []\n",
    "female = []\n",
    "\n",
    "with open('./data/gender_age.csv') as f :\n",
    "    data = csv.reader(f)\n",
    "    next(data)\n",
    "    for row in data :\n",
    "        if name in row[0] :\n",
    "            for i in row[3:104] :\n",
    "                male.append(int(i))\n",
    "            for i in row[106:] :\n",
    "                female.append(-int(i))\n",
    "                \n",
    "plt.figure(figsize=(10,5))\n",
    "plt.rc('font', family='Malgun Gothic') # 폰트바꿔야 한글이 깨지지 않음\n",
    "plt.rcParams['axes.unicode_minus'] = False # 이걸 해줘야 -가 깨지지않음\n",
    "plt.barh(range(101),male, label='남성', color='blue')\n",
    "plt.barh(range(101),female,label='여성', color='red')\n",
    "plt.title(name+' 성별 인구분포')\n",
    "plt.legend() \n",
    "plt.show()\n"
   ]
  },
  {
   "cell_type": "code",
   "execution_count": null,
   "metadata": {},
   "outputs": [],
   "source": []
  }
 ],
 "metadata": {
  "hide_input": false,
  "kernelspec": {
   "display_name": "summer",
   "language": "python",
   "name": "summer"
  },
  "language_info": {
   "codemirror_mode": {
    "name": "ipython",
    "version": 3
   },
   "file_extension": ".py",
   "mimetype": "text/x-python",
   "name": "python",
   "nbconvert_exporter": "python",
   "pygments_lexer": "ipython3",
   "version": "3.6.10"
  },
  "toc": {
   "base_numbering": 1,
   "nav_menu": {},
   "number_sections": true,
   "sideBar": true,
   "skip_h1_title": false,
   "title_cell": "Table of Contents",
   "title_sidebar": "Contents",
   "toc_cell": false,
   "toc_position": {},
   "toc_section_display": true,
   "toc_window_display": false
  }
 },
 "nbformat": 4,
 "nbformat_minor": 2
}
